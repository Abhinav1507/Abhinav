{
  "nbformat": 4,
  "nbformat_minor": 0,
  "metadata": {
    "colab": {
      "provenance": [],
      "gpuType": "T4",
      "authorship_tag": "ABX9TyPs7TJApB59Kyen2moxe8nV",
      "include_colab_link": true
    },
    "kernelspec": {
      "name": "python3",
      "display_name": "Python 3"
    },
    "language_info": {
      "name": "python"
    },
    "accelerator": "GPU"
  },
  "cells": [
    {
      "cell_type": "markdown",
      "metadata": {
        "id": "view-in-github",
        "colab_type": "text"
      },
      "source": [
        "<a href=\"https://colab.research.google.com/github/Abhinav1507/Abhinav/blob/master/ML1.ipynb\" target=\"_parent\"><img src=\"https://colab.research.google.com/assets/colab-badge.svg\" alt=\"Open In Colab\"/></a>"
      ]
    },
    {
      "cell_type": "code",
      "source": [
        "import torch\n",
        "print(torch.__version__)"
      ],
      "metadata": {
        "colab": {
          "base_uri": "https://localhost:8080/"
        },
        "id": "vvUc91R0RJm4",
        "outputId": "06686538-f634-42a5-86b0-4b08b5956886"
      },
      "execution_count": 1,
      "outputs": [
        {
          "output_type": "stream",
          "name": "stdout",
          "text": [
            "2.0.1+cu118\n"
          ]
        }
      ]
    },
    {
      "cell_type": "code",
      "source": [
        "data=[[1,2],[3,4]]\n",
        "x_data=torch.tensor(data)\n",
        "print(x_data)"
      ],
      "metadata": {
        "colab": {
          "base_uri": "https://localhost:8080/"
        },
        "id": "VdoisUH5Rpco",
        "outputId": "fafd57d2-c6a4-4b9a-c58e-f0d370857da9"
      },
      "execution_count": 3,
      "outputs": [
        {
          "output_type": "stream",
          "name": "stdout",
          "text": [
            "tensor([[1, 2],\n",
            "        [3, 4]])\n"
          ]
        }
      ]
    },
    {
      "cell_type": "code",
      "source": [
        "import numpy as np\n",
        "np_array=np.array(data)\n",
        "print('np',np_array)\n",
        "x_np=torch.from_numpy(np_array)\n",
        "print('x_np',x_np)"
      ],
      "metadata": {
        "colab": {
          "base_uri": "https://localhost:8080/"
        },
        "id": "Eam5tI6rSA6V",
        "outputId": "2988d391-2ab4-467f-96cf-cccd11d008da"
      },
      "execution_count": 4,
      "outputs": [
        {
          "output_type": "stream",
          "name": "stdout",
          "text": [
            "np [[1 2]\n",
            " [3 4]]\n",
            "x_np tensor([[1, 2],\n",
            "        [3, 4]])\n"
          ]
        }
      ]
    },
    {
      "cell_type": "code",
      "source": [
        "shape = (2, 3,)\n",
        "rand_tensor = torch.rand(shape)\n",
        "print(rand_tensor,rand_tensor[1][0])\n",
        "tensor = torch.rand(3, 4)\n",
        "\n",
        "print(f\"Shape of tensor: {tensor.shape}\")\n",
        "print(f\"Datatype of tensor: {tensor.dtype}\")\n",
        "print(f\"Device tensor is stored on: {tensor.device}\")"
      ],
      "metadata": {
        "colab": {
          "base_uri": "https://localhost:8080/"
        },
        "id": "bTaz5P4VUGm-",
        "outputId": "3d63ecd9-0f3c-4a69-b17d-80b2a22bc44a"
      },
      "execution_count": 3,
      "outputs": [
        {
          "output_type": "stream",
          "name": "stdout",
          "text": [
            "tensor([[0.0401, 0.1564, 0.9056],\n",
            "        [0.0829, 0.9709, 0.9833]]) tensor(0.0829)\n",
            "Shape of tensor: torch.Size([3, 4])\n",
            "Datatype of tensor: torch.float32\n",
            "Device tensor is stored on: cpu\n"
          ]
        }
      ]
    },
    {
      "cell_type": "code",
      "source": [
        "# We move our tensor to the GPU if available\n",
        "if torch.cuda.is_available():\n",
        "  tensor = tensor.to('cuda')\n",
        "  print(f\"Device tensor is stored on: {tensor.device}\")"
      ],
      "metadata": {
        "colab": {
          "base_uri": "https://localhost:8080/"
        },
        "id": "vZGjQKeqVAhX",
        "outputId": "d8666d1e-d852-4c24-dbf6-30d1ec761f0c"
      },
      "execution_count": 4,
      "outputs": [
        {
          "output_type": "stream",
          "name": "stdout",
          "text": [
            "Device tensor is stored on: cuda:0\n"
          ]
        }
      ]
    },
    {
      "cell_type": "code",
      "source": [
        "tensor = torch.ones(4, 4)\n",
        "tensor[:,2] = 0\n",
        "print(tensor)"
      ],
      "metadata": {
        "colab": {
          "base_uri": "https://localhost:8080/"
        },
        "id": "NPkAJh1zVpcd",
        "outputId": "baeffaf2-bc16-4c8f-a5d0-48932e451b61"
      },
      "execution_count": 7,
      "outputs": [
        {
          "output_type": "stream",
          "name": "stdout",
          "text": [
            "tensor([[1., 1., 0., 1.],\n",
            "        [1., 1., 0., 1.],\n",
            "        [1., 1., 0., 1.],\n",
            "        [1., 1., 0., 1.]])\n"
          ]
        }
      ]
    },
    {
      "cell_type": "code",
      "source": [
        "from torchvision.models import resnet18, ResNet18_Weights\n",
        "model = resnet18(weights=ResNet18_Weights.DEFAULT)\n",
        "data = torch.rand(1, 3, 64, 64)\n",
        "labels = torch.rand(1, 1000)"
      ],
      "metadata": {
        "colab": {
          "base_uri": "https://localhost:8080/"
        },
        "id": "RTBwgZHe0vJ1",
        "outputId": "ba8915b6-5c1b-4fb1-b5b9-f6f98e7f0610"
      },
      "execution_count": 2,
      "outputs": [
        {
          "output_type": "stream",
          "name": "stderr",
          "text": [
            "Downloading: \"https://download.pytorch.org/models/resnet18-f37072fd.pth\" to /root/.cache/torch/hub/checkpoints/resnet18-f37072fd.pth\n",
            "100%|██████████| 44.7M/44.7M [00:00<00:00, 92.0MB/s]\n"
          ]
        }
      ]
    },
    {
      "cell_type": "code",
      "source": [
        "prediction = model(data) # forward pass\n",
        "loss = (prediction - labels).sum()\n",
        "loss.backward() # backward pass"
      ],
      "metadata": {
        "id": "My_sgi4U09Jw"
      },
      "execution_count": 3,
      "outputs": []
    },
    {
      "cell_type": "code",
      "source": [
        "optim = torch.optim.SGD(model.parameters(), lr=1e-2, momentum=0.9)\n",
        "optim.step() #gradient descent"
      ],
      "metadata": {
        "id": "YMd5uKsU1-g4"
      },
      "execution_count": 4,
      "outputs": []
    },
    {
      "cell_type": "code",
      "source": [
        "\n",
        "a = torch.tensor([2., 3.], requires_grad=True)\n",
        "b = torch.tensor([6., 4.], requires_grad=True)\n",
        "Q = 3*a**3 - b**2\n",
        "print(a.dim())\n",
        "print(b)\n",
        "print(Q)"
      ],
      "metadata": {
        "colab": {
          "base_uri": "https://localhost:8080/"
        },
        "id": "JviIhiQA348T",
        "outputId": "4d34910f-5e76-4f5d-bf96-8bdde53051a4"
      },
      "execution_count": 5,
      "outputs": [
        {
          "output_type": "stream",
          "name": "stdout",
          "text": [
            "1\n",
            "tensor([6., 4.], requires_grad=True)\n",
            "tensor([-12.,  65.], grad_fn=<SubBackward0>)\n"
          ]
        }
      ]
    },
    {
      "cell_type": "code",
      "source": [
        "external_grad = torch.tensor([1., 1.])\n",
        "Q.backward(gradient=external_grad)\n",
        "# check if collected gradients are correct\n",
        "print(9*a**2 == a.grad)\n",
        "print(-2*b == b.grad)"
      ],
      "metadata": {
        "colab": {
          "base_uri": "https://localhost:8080/"
        },
        "id": "UuagwfF3-fYh",
        "outputId": "b9a0e267-4e6e-4b03-d914-cb06eefcd714"
      },
      "execution_count": 6,
      "outputs": [
        {
          "output_type": "stream",
          "name": "stdout",
          "text": [
            "tensor([True, True])\n",
            "tensor([True, True])\n"
          ]
        }
      ]
    },
    {
      "cell_type": "code",
      "source": [
        "\n",
        "model = resnet18(weights=ResNet18_Weights.DEFAULT)\n",
        "\n",
        "# Freeze all the parameters in the network\n",
        "for param in model.parameters():\n",
        "    param.requires_grad = False"
      ],
      "metadata": {
        "id": "DllYWofYcq4z"
      },
      "execution_count": 7,
      "outputs": []
    },
    {
      "cell_type": "code",
      "source": [
        "model.fc = torch.nn.Linear(512, 10)\n",
        "# Optimize only the classifier\n",
        "optimizer = torch.optim.SGD(model.parameters(), lr=1e-2, momentum=0.9)"
      ],
      "metadata": {
        "id": "GKtC6RCmc8td"
      },
      "execution_count": 8,
      "outputs": []
    },
    {
      "cell_type": "code",
      "source": [
        "import torch.nn.functional as F\n",
        "import torch.nn as nn\n"
      ],
      "metadata": {
        "id": "RohAzSC5i9Ms"
      },
      "execution_count": 2,
      "outputs": []
    },
    {
      "cell_type": "code",
      "source": [
        "class model(nn.Module):\n",
        "  def __init__(self):\n",
        "     super(model,self).__init__()\n",
        "     self.con1=nn.Conv2d(1,6,5)\n",
        "     self.con2=nn.Conv2d(6,16,5)\n",
        "     self.fc1=nn.Linear(16*5*5,120)\n",
        "     self.fc2=nn.Linear(120,84)\n",
        "     self.fc3=nn.Linear(84,10)\n",
        "  def forward(self,x):\n",
        "    x=F.max_pool2d(F.relu(self.con1(x)),(2,2))\n",
        "    x=F.max_pool2d(F.relu(self.con2(x)),2)\n",
        "    x=torch.flatten(x,1)\n",
        "    x=F.relu(self.fc1(x))\n",
        "    x=F.relu(self.fc2(x))\n",
        "    x=self.fc3(x)\n",
        "    return x\n",
        "Model=model()\n",
        "print(Model)"
      ],
      "metadata": {
        "colab": {
          "base_uri": "https://localhost:8080/"
        },
        "id": "TR3A-d8-jPdy",
        "outputId": "62e1f217-574a-4e43-f5f1-c8285126321b"
      },
      "execution_count": 3,
      "outputs": [
        {
          "output_type": "stream",
          "name": "stdout",
          "text": [
            "model(\n",
            "  (con1): Conv2d(1, 6, kernel_size=(5, 5), stride=(1, 1))\n",
            "  (con2): Conv2d(6, 16, kernel_size=(5, 5), stride=(1, 1))\n",
            "  (fc1): Linear(in_features=400, out_features=120, bias=True)\n",
            "  (fc2): Linear(in_features=120, out_features=84, bias=True)\n",
            "  (fc3): Linear(in_features=84, out_features=10, bias=True)\n",
            ")\n"
          ]
        }
      ]
    },
    {
      "cell_type": "code",
      "source": [
        "params=list(Model.parameters())\n",
        "print(len(params))\n",
        "print(params[0].size())\n",
        "print(params[1].size())\n",
        "print(params[2].size())\n",
        "print(params[3].size())\n",
        "print(params[4].size())"
      ],
      "metadata": {
        "colab": {
          "base_uri": "https://localhost:8080/"
        },
        "id": "-wjjR_6MxzBr",
        "outputId": "8d38edd7-7dae-4c5b-dee1-7858d30c3154"
      },
      "execution_count": 4,
      "outputs": [
        {
          "output_type": "stream",
          "name": "stdout",
          "text": [
            "10\n",
            "torch.Size([6, 1, 5, 5])\n",
            "torch.Size([6])\n",
            "torch.Size([16, 6, 5, 5])\n",
            "torch.Size([16])\n",
            "torch.Size([120, 400])\n"
          ]
        }
      ]
    },
    {
      "cell_type": "code",
      "source": [
        "input = torch.randn(1, 1, 32, 32)\n",
        "out = Model(input)\n",
        "print(out)"
      ],
      "metadata": {
        "colab": {
          "base_uri": "https://localhost:8080/"
        },
        "id": "SsLwk1Neqt_s",
        "outputId": "fe82eb45-65ac-4839-dc1d-33d8178131c1"
      },
      "execution_count": 6,
      "outputs": [
        {
          "output_type": "stream",
          "name": "stdout",
          "text": [
            "tensor([[ 0.0827,  0.0665, -0.0589,  0.1213, -0.0730,  0.0393, -0.0566, -0.0944,\n",
            "         -0.1930, -0.0641]], grad_fn=<AddmmBackward0>)\n"
          ]
        }
      ]
    },
    {
      "cell_type": "code",
      "source": [
        "Model.zero_grad()\n",
        "out.backward(torch.randn(1, 10))"
      ],
      "metadata": {
        "id": "YVFr1al3yJL3"
      },
      "execution_count": 8,
      "outputs": []
    },
    {
      "cell_type": "code",
      "source": [
        "Output=Model(input)\n",
        "print(input)\n",
        "print(Output)\n",
        "target=torch.randn(10)\n",
        "print(target)\n",
        "target=target.view(1,-1)\n",
        "print(target)"
      ],
      "metadata": {
        "colab": {
          "base_uri": "https://localhost:8080/"
        },
        "id": "MQQRpOnwq8Ir",
        "outputId": "7625e2da-9e02-4213-bd55-2d6e3707aa91"
      },
      "execution_count": 11,
      "outputs": [
        {
          "output_type": "stream",
          "name": "stdout",
          "text": [
            "tensor([[[[-0.1603,  0.9701, -2.2615,  ..., -0.7057, -2.4273,  0.5723],\n",
            "          [-0.4084, -1.0999, -1.2365,  ...,  1.1190, -0.2367, -0.4893],\n",
            "          [-0.2592, -1.2274, -0.0718,  ...,  1.7171,  1.5632, -0.6980],\n",
            "          ...,\n",
            "          [-0.3272, -0.2910,  0.9936,  ..., -0.5467,  1.4468, -0.8760],\n",
            "          [-0.2905, -0.0468, -1.3266,  ...,  1.6294,  1.2492,  1.0890],\n",
            "          [ 1.0374,  0.1132, -0.5495,  ...,  1.1500, -0.6615, -0.1864]]]])\n",
            "tensor([[ 0.0827,  0.0665, -0.0589,  0.1213, -0.0730,  0.0393, -0.0566, -0.0944,\n",
            "         -0.1930, -0.0641]], grad_fn=<AddmmBackward0>)\n",
            "tensor([ 0.4331,  1.0656,  1.1408, -0.3329,  1.4527,  0.5441,  0.3320,  0.6784,\n",
            "        -1.6454,  0.6372])\n",
            "tensor([[ 0.4331,  1.0656,  1.1408, -0.3329,  1.4527,  0.5441,  0.3320,  0.6784,\n",
            "         -1.6454,  0.6372]])\n"
          ]
        }
      ]
    },
    {
      "cell_type": "code",
      "source": [
        "loss_f=nn.MSELoss()\n",
        "loss=loss_f(Output,target)\n",
        "print(loss)"
      ],
      "metadata": {
        "colab": {
          "base_uri": "https://localhost:8080/"
        },
        "id": "RS8DG2etsDOX",
        "outputId": "f3d03e4a-b072-432e-b129-7ecedd54ea7a"
      },
      "execution_count": 12,
      "outputs": [
        {
          "output_type": "stream",
          "name": "stdout",
          "text": [
            "tensor(0.8699, grad_fn=<MseLossBackward0>)\n"
          ]
        }
      ]
    },
    {
      "cell_type": "code",
      "source": [
        "print(loss.grad_fn)  # MSELoss\n",
        "print(loss.grad_fn.next_functions[0][0])  # Linear\n",
        "print(loss.grad_fn.next_functions[0][0].next_functions[0][0])  # ReLU"
      ],
      "metadata": {
        "colab": {
          "base_uri": "https://localhost:8080/"
        },
        "id": "mbXOOGMUschQ",
        "outputId": "40fd4d83-ae9a-4c34-a4d5-6c3bac0be20e"
      },
      "execution_count": 13,
      "outputs": [
        {
          "output_type": "stream",
          "name": "stdout",
          "text": [
            "<MseLossBackward0 object at 0x7f68407efeb0>\n",
            "<AddmmBackward0 object at 0x7f68407ee6b0>\n",
            "<AccumulateGrad object at 0x7f68407efeb0>\n"
          ]
        }
      ]
    },
    {
      "cell_type": "code",
      "source": [
        "Model.zero_grad()     # zeroes the gradient buffers of all parameters\n",
        "\n",
        "print('conv1.bias.grad before backward')\n",
        "print(Model.con1.bias.grad)\n",
        "\n",
        "loss.backward()\n",
        "\n",
        "print('conv1.bias.grad after backward')\n",
        "print(Model.con1.bias.grad)\n",
        "print(Model.con1.weight.grad)"
      ],
      "metadata": {
        "colab": {
          "base_uri": "https://localhost:8080/"
        },
        "id": "wVQCnyZ6v5A4",
        "outputId": "b4cbe1df-cecd-42dd-e061-17101537d0c4"
      },
      "execution_count": 16,
      "outputs": [
        {
          "output_type": "stream",
          "name": "stdout",
          "text": [
            "conv1.bias.grad before backward\n",
            "None\n",
            "conv1.bias.grad after backward\n",
            "tensor([ 0.0048, -0.0096,  0.0026,  0.0022,  0.0037, -0.0012])\n",
            "tensor([[[[ 9.2842e-03,  1.8399e-02, -8.6782e-03,  1.7937e-03,  4.8161e-03],\n",
            "          [ 8.6810e-03,  1.4714e-02,  8.8585e-03,  8.4169e-03,  1.6128e-03],\n",
            "          [-1.6689e-02,  3.1001e-03, -1.0274e-02,  6.0423e-03,  4.6536e-03],\n",
            "          [-2.2217e-04, -1.0975e-02, -2.6087e-02, -1.0829e-02, -2.5327e-02],\n",
            "          [ 2.4864e-03,  9.6773e-03,  5.4787e-03, -4.6205e-03, -3.0900e-02]]],\n",
            "\n",
            "\n",
            "        [[[ 5.3214e-03,  1.6349e-02, -2.3134e-03,  1.6643e-02,  2.1718e-02],\n",
            "          [-8.6338e-04, -7.2503e-03, -1.0554e-02, -3.7049e-03, -5.0813e-03],\n",
            "          [ 1.7225e-02,  1.0872e-04, -8.7709e-03,  1.9788e-02,  1.9220e-02],\n",
            "          [ 4.4933e-03,  1.7511e-02, -5.4992e-03,  1.3923e-02, -3.0992e-02],\n",
            "          [ 2.4515e-02, -1.8275e-02,  9.8577e-03,  1.4895e-02,  1.0844e-02]]],\n",
            "\n",
            "\n",
            "        [[[-2.8309e-03,  1.3662e-02, -9.1567e-03, -3.0983e-05,  1.7765e-03],\n",
            "          [-4.4819e-03,  5.0711e-03,  9.7049e-03,  4.4940e-03,  2.8446e-03],\n",
            "          [-1.9117e-02, -2.6883e-03, -3.0952e-03,  1.0681e-03,  8.7356e-03],\n",
            "          [-1.6896e-02, -1.2177e-03,  1.0537e-02, -5.0348e-03, -2.8295e-03],\n",
            "          [ 4.3624e-03, -3.5394e-03,  1.7504e-02,  3.3664e-03,  9.2272e-03]]],\n",
            "\n",
            "\n",
            "        [[[ 2.0597e-02,  3.3920e-02,  8.4138e-03, -7.8631e-03, -8.0939e-03],\n",
            "          [ 1.4528e-03,  3.8918e-03,  2.4725e-02,  1.3691e-03,  3.5355e-03],\n",
            "          [-6.2246e-03,  1.0009e-02, -8.1388e-03, -1.2251e-02,  1.5599e-02],\n",
            "          [ 8.9193e-03, -5.3374e-03,  1.3369e-02,  1.3880e-02, -1.7229e-02],\n",
            "          [ 3.2496e-03,  2.4475e-03,  3.8748e-03, -1.9329e-03,  1.2731e-02]]],\n",
            "\n",
            "\n",
            "        [[[ 8.9553e-03, -2.1200e-02,  4.4043e-03,  7.7147e-04,  2.5755e-02],\n",
            "          [ 7.6904e-03, -3.4318e-03, -1.2730e-02, -2.9548e-03, -2.0113e-02],\n",
            "          [-2.9007e-03,  2.4200e-03, -2.7458e-02, -9.1619e-03, -1.3318e-02],\n",
            "          [-3.9671e-03,  8.6566e-03, -1.5745e-02,  1.9655e-02,  5.5201e-03],\n",
            "          [-1.2683e-02, -8.2084e-03, -1.3203e-03, -2.8811e-04,  1.4191e-02]]],\n",
            "\n",
            "\n",
            "        [[[-3.5379e-03, -3.6541e-03, -1.1165e-02, -1.9808e-02,  1.0060e-02],\n",
            "          [-5.1663e-03, -1.7811e-02,  1.5619e-03,  7.5951e-03,  2.7121e-03],\n",
            "          [ 6.4276e-03, -9.8396e-03,  1.7658e-02, -5.2460e-03,  1.8006e-02],\n",
            "          [-2.2013e-02,  2.4296e-02, -1.3421e-02, -3.5573e-02,  1.9095e-03],\n",
            "          [-3.2866e-03, -5.4558e-03,  6.7589e-03, -1.0661e-03,  1.4286e-02]]]])\n"
          ]
        }
      ]
    },
    {
      "cell_type": "code",
      "source": [
        "learning_rate = 0.01\n",
        "for f in Model.parameters():\n",
        "    f.data.sub_(f.grad.data * learning_rate)"
      ],
      "metadata": {
        "id": "N5tK8YZ6wryT"
      },
      "execution_count": 18,
      "outputs": []
    },
    {
      "cell_type": "code",
      "source": [
        "import torch.optim as optim\n",
        "\n",
        "# create your optimizer\n",
        "optimizer = optim.SGD(Model.parameters(), lr=0.01)\n",
        "\n",
        "# in your training loop:\n",
        "optimizer.zero_grad()   # zero the gradient buffers\n",
        "output = Model(input)\n",
        "loss = loss_f(output, target)\n",
        "loss.backward()\n",
        "optimizer.step()    # Does the update"
      ],
      "metadata": {
        "id": "WT0dT2K7xHdw"
      },
      "execution_count": 19,
      "outputs": []
    }
  ]
}